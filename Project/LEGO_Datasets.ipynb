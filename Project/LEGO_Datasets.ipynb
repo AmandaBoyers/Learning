{
 "cells": [
  {
   "cell_type": "code",
   "execution_count": 6,
   "metadata": {},
   "outputs": [],
   "source": [
    "from mpl_toolkits.mplot3d import Axes3D\n",
    "from sklearn.preprocessing import StandardScaler\n",
    "import matplotlib.pyplot as plt # plotting\n",
    "import numpy as np # linear algebra\n",
    "import os # accessing directory structure\n",
    "import pandas as pd # data processing, CSV file I/O (e.g. pd.read_csv)"
   ]
  },
  {
   "cell_type": "code",
   "execution_count": 7,
   "metadata": {},
   "outputs": [
    {
     "name": "stdout",
     "output_type": "stream",
     "text": [
      "['.conda', 'colors.csv', 'demo.py', 'downloads_schema.png', 'inventories.csv', 'inventory_parts.csv', 'inventory_sets.csv', 'LEGO_Datasets.ipynb', 'main.py', 'morelearning.ipynb', 'parts.csv', 'part_categories.csv', 'sets.csv', 'themes.csv']\n"
     ]
    }
   ],
   "source": [
    "print(os.listdir())"
   ]
  },
  {
   "cell_type": "code",
   "execution_count": 8,
   "metadata": {},
   "outputs": [],
   "source": [
    "colors = pd.read_csv(\"colors.csv\")\n",
    "inventories = pd.read_csv(\"inventories.csv\")\n",
    "inventory_parts = pd.read_csv(\"inventory_parts.csv\")\n",
    "inventory_sets = pd.read_csv(\"inventory_sets.csv\")\n",
    "part_categories = pd.read_csv(\"part_categories.csv\")\n",
    "parts = pd.read_csv(\"parts.csv\")\n",
    "sets = pd.read_csv(\"sets.csv\")\n",
    "themes = pd.read_csv(\"themes.csv\")"
   ]
  },
  {
   "cell_type": "code",
   "execution_count": 15,
   "metadata": {},
   "outputs": [],
   "source": [
    "def investigate(db):\n",
    "    \"\"\"explores the data\"\"\"\n",
    "\n",
    "    db.name = \"d\"\n",
    "    print(f\"Exploring the data in the dataframe\")\n",
    "    print(db.index)\n",
    "    print(\"\")\n",
    "    print(\"COLUMN NAMES\")\n",
    "    print(db.columns)\n",
    "    print()\n",
    "    nRow, nCol = db.shape\n",
    "    print(f'There are {nRow} rows and {nCol} columns')\n",
    "    print()\n",
    "    print(\"DATA TYPES\")\n",
    "    print(db.dtypes)\n",
    "    print()\n",
    "    print(\"NUMBER OF UNIQUE VALUES IN EACH COLUMN\")\n",
    "    print(db.nunique())\n",
    "    print()\n",
    "    print(db.head())\n",
    "    print()\n",
    "    print(db.info())\n",
    "    print()\n",
    "    print(\"NUMBER OF NON-NULL VALUES IN EACH COLUMN\")\n",
    "    print(db.count())\n"
   ]
  },
  {
   "cell_type": "markdown",
   "metadata": {},
   "source": [
    "# Ideas for this data set\n",
    "* Group colors into 10 groups (124 colors out of 135 is too many)\n",
    "* Track popular themes and colors by year\n",
    "    ** datasets= colors, sets, themes\n",
    "* Only 12 sets had more than version 1 released.  Where those the popular colors and themes?\n",
    "    ** dataset = inventories\n",
    "\n"
   ]
  },
  {
   "cell_type": "markdown",
   "metadata": {},
   "source": [
    "# Exploring each dataset\n",
    "\n",
    "## colors df"
   ]
  },
  {
   "cell_type": "code",
   "execution_count": 10,
   "metadata": {},
   "outputs": [
    {
     "name": "stdout",
     "output_type": "stream",
     "text": [
      "Exploring the data in the dataframe\n",
      "RangeIndex(start=0, stop=135, step=1)\n",
      "\n",
      "COLUMN NAMES\n",
      "Index(['id', 'name', 'rgb', 'is_trans'], dtype='object')\n",
      "\n",
      "There are 4 rows and 135 columns\n",
      "\n",
      "DATA TYPES\n",
      "id           int64\n",
      "name        object\n",
      "rgb         object\n",
      "is_trans    object\n",
      "dtype: object\n",
      "\n",
      "NUMBER OF UNIQUE VALUES IN EACH COLUMN\n",
      "id          135\n",
      "name          1\n",
      "rgb         124\n",
      "is_trans      2\n",
      "dtype: int64\n",
      "\n",
      "   id name     rgb is_trans\n",
      "0  -1    d  0033B2        f\n",
      "1   0    d  05131D        f\n",
      "2   1    d  0055BF        f\n",
      "3   2    d  237841        f\n",
      "4   3    d  008F9B        f\n",
      "\n",
      "<class 'pandas.core.frame.DataFrame'>\n",
      "RangeIndex: 135 entries, 0 to 134\n",
      "Data columns (total 4 columns):\n",
      " #   Column    Non-Null Count  Dtype \n",
      "---  ------    --------------  ----- \n",
      " 0   id        135 non-null    int64 \n",
      " 1   name      135 non-null    object\n",
      " 2   rgb       135 non-null    object\n",
      " 3   is_trans  135 non-null    object\n",
      "dtypes: int64(1), object(3)\n",
      "memory usage: 4.3+ KB\n",
      "None\n",
      "\n",
      "NUMBER OF NON-NULL VALUES IN EACH COLUMN\n",
      "id          135\n",
      "name        135\n",
      "rgb         135\n",
      "is_trans    135\n",
      "dtype: int64\n"
     ]
    }
   ],
   "source": [
    "investigate(colors)"
   ]
  },
  {
   "cell_type": "markdown",
   "metadata": {},
   "source": [
    "## What's with the color names?"
   ]
  },
  {
   "cell_type": "code",
   "execution_count": 11,
   "metadata": {},
   "outputs": [
    {
     "data": {
      "text/plain": [
       "array(['d'], dtype=object)"
      ]
     },
     "execution_count": 11,
     "metadata": {},
     "output_type": "execute_result"
    }
   ],
   "source": [
    "colors['name'].unique()"
   ]
  },
  {
   "cell_type": "markdown",
   "metadata": {},
   "source": [
    "## rgb values"
   ]
  },
  {
   "cell_type": "code",
   "execution_count": 12,
   "metadata": {},
   "outputs": [
    {
     "name": "stdout",
     "output_type": "stream",
     "text": [
      "There are 124 unique colors in the dataframe colors out of 135 total colors\n",
      "\n",
      "COUNT OF ALL UNIQUE COLORS\n"
     ]
    },
    {
     "data": {
      "text/plain": [
       "rgb\n",
       "FFFFFF    3\n",
       "000000    3\n",
       "D9E4A7    2\n",
       "635F52    2\n",
       "A5A5CB    2\n",
       "         ..\n",
       "FCFCFC    1\n",
       "F5CD2F    1\n",
       "C1DFF0    1\n",
       "F8F184    1\n",
       "8E5597    1\n",
       "Name: count, Length: 124, dtype: int64"
      ]
     },
     "execution_count": 12,
     "metadata": {},
     "output_type": "execute_result"
    }
   ],
   "source": [
    "uniquecolors = colors['rgb'].nunique()\n",
    "nRow, nCol = colors.shape\n",
    "\n",
    "print(f\"There are {uniquecolors} unique colors in the dataframe colors out of {nRow} total colors\")\n",
    "print()\n",
    "print(\"COUNT OF ALL UNIQUE COLORS\")\n",
    "colors['rgb'].value_counts()\n"
   ]
  },
  {
   "cell_type": "markdown",
   "metadata": {},
   "source": [
    "## inventory_sets db"
   ]
  },
  {
   "cell_type": "code",
   "execution_count": null,
   "metadata": {},
   "outputs": [],
   "source": [
    "investigate(inventory_sets)"
   ]
  },
  {
   "cell_type": "code",
   "execution_count": 16,
   "metadata": {},
   "outputs": [
    {
     "name": "stdout",
     "output_type": "stream",
     "text": [
      "Exploring the data in the dataframe\n",
      "RangeIndex(start=0, stop=11681, step=1)\n",
      "\n",
      "COLUMN NAMES\n",
      "Index(['id', 'version', 'set_num'], dtype='object')\n",
      "\n",
      "There are 11681 rows and 3 columns\n",
      "\n",
      "DATA TYPES\n",
      "id          int64\n",
      "version     int64\n",
      "set_num    object\n",
      "dtype: object\n",
      "\n",
      "NUMBER OF UNIQUE VALUES IN EACH COLUMN\n",
      "id         11681\n",
      "version        5\n",
      "set_num    11670\n",
      "dtype: int64\n",
      "\n",
      "   id  version set_num\n",
      "0   1        1  7922-1\n",
      "1   3        1  3931-1\n",
      "2   4        1  6942-1\n",
      "3  15        1  5158-1\n",
      "4  16        1   903-1\n",
      "\n",
      "<class 'pandas.core.frame.DataFrame'>\n",
      "RangeIndex: 11681 entries, 0 to 11680\n",
      "Data columns (total 3 columns):\n",
      " #   Column   Non-Null Count  Dtype \n",
      "---  ------   --------------  ----- \n",
      " 0   id       11681 non-null  int64 \n",
      " 1   version  11681 non-null  int64 \n",
      " 2   set_num  11681 non-null  object\n",
      "dtypes: int64(2), object(1)\n",
      "memory usage: 273.9+ KB\n",
      "None\n",
      "\n",
      "NUMBER OF NON-NULL VALUES IN EACH COLUMN\n",
      "id         11681\n",
      "version    11681\n",
      "set_num    11681\n",
      "dtype: int64\n"
     ]
    }
   ],
   "source": [
    "investigate(inventories)"
   ]
  },
  {
   "cell_type": "markdown",
   "metadata": {},
   "source": [
    "# Very few sets had more than one version released"
   ]
  },
  {
   "cell_type": "code",
   "execution_count": 18,
   "metadata": {},
   "outputs": [
    {
     "name": "stdout",
     "output_type": "stream",
     "text": [
      "COUNT OF DIFFERENT VERSIONS\n"
     ]
    },
    {
     "data": {
      "text/plain": [
       "version\n",
       "1    11669\n",
       "2        9\n",
       "3        1\n",
       "4        1\n",
       "5        1\n",
       "Name: count, dtype: int64"
      ]
     },
     "execution_count": 18,
     "metadata": {},
     "output_type": "execute_result"
    }
   ],
   "source": [
    "print(\"COUNT OF DIFFERENT VERSIONS\")\n",
    "inventories['version'].value_counts()"
   ]
  },
  {
   "cell_type": "code",
   "execution_count": 19,
   "metadata": {},
   "outputs": [
    {
     "name": "stdout",
     "output_type": "stream",
     "text": [
      "Exploring the data in the dataframe\n",
      "RangeIndex(start=0, stop=614, step=1)\n",
      "\n",
      "COLUMN NAMES\n",
      "Index(['id', 'name', 'parent_id'], dtype='object')\n",
      "\n",
      "There are 614 rows and 3 columns\n",
      "\n",
      "DATA TYPES\n",
      "id             int64\n",
      "name          object\n",
      "parent_id    float64\n",
      "dtype: object\n",
      "\n",
      "NUMBER OF UNIQUE VALUES IN EACH COLUMN\n",
      "id           614\n",
      "name           1\n",
      "parent_id     78\n",
      "dtype: int64\n",
      "\n",
      "   id name  parent_id\n",
      "0   1    d        NaN\n",
      "1   2    d        1.0\n",
      "2   3    d        1.0\n",
      "3   4    d        1.0\n",
      "4   5    d        1.0\n",
      "\n",
      "<class 'pandas.core.frame.DataFrame'>\n",
      "RangeIndex: 614 entries, 0 to 613\n",
      "Data columns (total 3 columns):\n",
      " #   Column     Non-Null Count  Dtype  \n",
      "---  ------     --------------  -----  \n",
      " 0   id         614 non-null    int64  \n",
      " 1   name       614 non-null    object \n",
      " 2   parent_id  503 non-null    float64\n",
      "dtypes: float64(1), int64(1), object(1)\n",
      "memory usage: 14.5+ KB\n",
      "None\n",
      "\n",
      "NUMBER OF NON-NULL VALUES IN EACH COLUMN\n",
      "id           614\n",
      "name         614\n",
      "parent_id    503\n",
      "dtype: int64\n"
     ]
    }
   ],
   "source": [
    "investigate(themes)"
   ]
  },
  {
   "cell_type": "markdown",
   "metadata": {},
   "source": [
    "# 78 total themes"
   ]
  },
  {
   "cell_type": "code",
   "execution_count": 23,
   "metadata": {},
   "outputs": [
    {
     "name": "stdout",
     "output_type": "stream",
     "text": [
      "There are 78 total themes.\n"
     ]
    }
   ],
   "source": [
    "nthemegroups = themes.parent_id.nunique()\n",
    "print(f\"There are {nthemegroups} total themes.\")"
   ]
  },
  {
   "cell_type": "code",
   "execution_count": null,
   "metadata": {},
   "outputs": [],
   "source": [
    "investigate(sets)"
   ]
  }
 ],
 "metadata": {
  "kernelspec": {
   "display_name": "tryenvir",
   "language": "python",
   "name": "python3"
  },
  "language_info": {
   "codemirror_mode": {
    "name": "ipython",
    "version": 3
   },
   "file_extension": ".py",
   "mimetype": "text/x-python",
   "name": "python",
   "nbconvert_exporter": "python",
   "pygments_lexer": "ipython3",
   "version": "3.8.20"
  }
 },
 "nbformat": 4,
 "nbformat_minor": 2
}

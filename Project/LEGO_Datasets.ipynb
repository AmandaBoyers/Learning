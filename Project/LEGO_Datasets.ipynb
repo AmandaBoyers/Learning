{
 "cells": [
  {
   "cell_type": "code",
   "execution_count": 2,
   "metadata": {},
   "outputs": [],
   "source": [
    "from mpl_toolkits.mplot3d import Axes3D\n",
    "from sklearn.preprocessing import StandardScaler\n",
    "import matplotlib.pyplot as plt # plotting\n",
    "import numpy as np # linear algebra\n",
    "import os # accessing directory structure\n",
    "import pandas as pd # data processing, CSV file I/O (e.g. pd.read_csv)"
   ]
  },
  {
   "cell_type": "code",
   "execution_count": 3,
   "metadata": {},
   "outputs": [
    {
     "name": "stdout",
     "output_type": "stream",
     "text": [
      "['.conda', 'colors.csv', 'demo.py', 'downloads_schema.png', 'inventories.csv', 'inventory_parts.csv', 'inventory_sets.csv', 'learning-.ipynb', 'main.py', 'morelearning.ipynb', 'parts.csv', 'part_categories.csv', 'sets.csv', 'themes.csv']\n"
     ]
    }
   ],
   "source": [
    "print(os.listdir())"
   ]
  },
  {
   "cell_type": "code",
   "execution_count": 19,
   "metadata": {},
   "outputs": [],
   "source": [
    "colors = pd.read_csv(\"colors.csv\")\n",
    "inventories = pd.read_csv(\"inventories.csv\")\n",
    "inventory_parts = pd.read_csv(\"inventory_parts.csv\")\n",
    "inventory_sets = pd.read_csv(\"inventory_sets.csv\")\n",
    "part_categories = pd.read_csv(\"part_categories.csv\")\n",
    "parts = pd.read_csv(\"parts.csv\")\n",
    "sets = pd.read_csv(\"sets.csv\")\n",
    "themes = pd.read_csv(\"themes.csv\")"
   ]
  },
  {
   "cell_type": "code",
   "execution_count": 77,
   "metadata": {},
   "outputs": [],
   "source": [
    "def investigate(db):\n",
    "    \"\"\"explores the data\"\"\"\n",
    "\n",
    "    db.name = \"d\"\n",
    "    print(f\"Exploring the data in the dataframe\")\n",
    "    print(db.index)\n",
    "    print(\"\")\n",
    "    print(\"COLUMN NAMES\")\n",
    "    print(db.columns)\n",
    "    print()\n",
    "    print(db.info())\n",
    "    print()\n",
    "    print(\"DATA TYPES\")\n",
    "    print(db.dtypes)\n",
    "    print()\n",
    "    print(\"NUMBER OF UNIQUE VALUES IN EACH COLUMN\")\n",
    "    print(db.nunique())\n",
    "    print()\n",
    "    print(db.head())\n",
    "  \n"
   ]
  },
  {
   "cell_type": "code",
   "execution_count": 78,
   "metadata": {},
   "outputs": [
    {
     "name": "stdout",
     "output_type": "stream",
     "text": [
      "Exploring the data in the dataframe\n",
      "RangeIndex(start=0, stop=135, step=1)\n",
      "\n",
      "COLUMN NAMES\n",
      "Index(['id', 'name', 'rgb', 'is_trans'], dtype='object')\n",
      "\n",
      "<class 'pandas.core.frame.DataFrame'>\n",
      "RangeIndex: 135 entries, 0 to 134\n",
      "Data columns (total 4 columns):\n",
      " #   Column    Non-Null Count  Dtype \n",
      "---  ------    --------------  ----- \n",
      " 0   id        135 non-null    int64 \n",
      " 1   name      135 non-null    object\n",
      " 2   rgb       135 non-null    object\n",
      " 3   is_trans  135 non-null    object\n",
      "dtypes: int64(1), object(3)\n",
      "memory usage: 4.3+ KB\n",
      "None\n",
      "\n",
      "DATA TYPES\n",
      "id           int64\n",
      "name        object\n",
      "rgb         object\n",
      "is_trans    object\n",
      "dtype: object\n",
      "\n",
      "NUMBER OF UNIQUE VALUES IN EACH COLUMN\n",
      "id          135\n",
      "name          1\n",
      "rgb         124\n",
      "is_trans      2\n",
      "dtype: int64\n",
      "\n",
      "   id name     rgb is_trans\n",
      "0  -1    d  0033B2        f\n",
      "1   0    d  05131D        f\n",
      "2   1    d  0055BF        f\n",
      "3   2    d  237841        f\n",
      "4   3    d  008F9B        f\n"
     ]
    }
   ],
   "source": [
    "investigate(colors)"
   ]
  },
  {
   "cell_type": "code",
   "execution_count": 11,
   "metadata": {},
   "outputs": [
    {
     "data": {
      "text/plain": [
       "array([1, 2, 3, 4, 5], dtype=int64)"
      ]
     },
     "execution_count": 11,
     "metadata": {},
     "output_type": "execute_result"
    }
   ],
   "source": [
    "datainventories['version'].unique()"
   ]
  },
  {
   "cell_type": "code",
   "execution_count": 13,
   "metadata": {},
   "outputs": [
    {
     "data": {
      "text/plain": [
       "id         11681\n",
       "version        5\n",
       "set_num    11670\n",
       "dtype: int64"
      ]
     },
     "execution_count": 13,
     "metadata": {},
     "output_type": "execute_result"
    }
   ],
   "source": [
    "datainventories.nunique()"
   ]
  },
  {
   "cell_type": "markdown",
   "metadata": {},
   "source": [
    "# .count()\n",
    "## Shows the total number of non-null values in each column.  It can be applied to a aingle column as well as a whole dataframe."
   ]
  },
  {
   "cell_type": "code",
   "execution_count": 14,
   "metadata": {},
   "outputs": [
    {
     "data": {
      "text/plain": [
       "id         11681\n",
       "version    11681\n",
       "set_num    11681\n",
       "dtype: int64"
      ]
     },
     "execution_count": 14,
     "metadata": {},
     "output_type": "execute_result"
    }
   ],
   "source": [
    "datainventories.count()"
   ]
  },
  {
   "cell_type": "markdown",
   "metadata": {},
   "source": [
    "# .value_counts\n",
    "## This will show all the unique values with their count. Single columns only."
   ]
  },
  {
   "cell_type": "code",
   "execution_count": 15,
   "metadata": {},
   "outputs": [
    {
     "data": {
      "text/plain": [
       "version\n",
       "1    11669\n",
       "2        9\n",
       "3        1\n",
       "4        1\n",
       "5        1\n",
       "Name: count, dtype: int64"
      ]
     },
     "execution_count": 15,
     "metadata": {},
     "output_type": "execute_result"
    }
   ],
   "source": [
    "datainventories['version'].value_counts()"
   ]
  },
  {
   "cell_type": "markdown",
   "metadata": {},
   "source": [
    "# .info()\n",
    "## Gives basic information about the dataframe"
   ]
  },
  {
   "cell_type": "code",
   "execution_count": 16,
   "metadata": {},
   "outputs": [
    {
     "name": "stdout",
     "output_type": "stream",
     "text": [
      "<class 'pandas.core.frame.DataFrame'>\n",
      "RangeIndex: 11681 entries, 0 to 11680\n",
      "Data columns (total 3 columns):\n",
      " #   Column   Non-Null Count  Dtype \n",
      "---  ------   --------------  ----- \n",
      " 0   id       11681 non-null  int64 \n",
      " 1   version  11681 non-null  int64 \n",
      " 2   set_num  11681 non-null  object\n",
      "dtypes: int64(2), object(1)\n",
      "memory usage: 273.9+ KB\n"
     ]
    }
   ],
   "source": [
    "datainventories.info()"
   ]
  },
  {
   "cell_type": "code",
   "execution_count": null,
   "metadata": {},
   "outputs": [],
   "source": []
  }
 ],
 "metadata": {
  "kernelspec": {
   "display_name": "tryenvir",
   "language": "python",
   "name": "python3"
  },
  "language_info": {
   "codemirror_mode": {
    "name": "ipython",
    "version": 3
   },
   "file_extension": ".py",
   "mimetype": "text/x-python",
   "name": "python",
   "nbconvert_exporter": "python",
   "pygments_lexer": "ipython3",
   "version": "3.8.20"
  }
 },
 "nbformat": 4,
 "nbformat_minor": 2
}
